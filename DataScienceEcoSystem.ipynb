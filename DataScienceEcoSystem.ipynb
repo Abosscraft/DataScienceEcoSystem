{
 "cells": [
  {
   "cell_type": "markdown",
   "id": "591bdcd2-6853-4ef9-b15b-4f897a0b2691",
   "metadata": {},
   "source": [
    "# Data Science Tools and Ecosystem"
   ]
  },
  {
   "cell_type": "markdown",
   "id": "757e4d63-9116-44cb-9b26-8052cd3b13f7",
   "metadata": {},
   "source": [
    "In this notebook, Data Science Tools and Ecosystem are summarized."
   ]
  },
  {
   "cell_type": "markdown",
   "id": "d4f15ed7-9663-46b4-aeb3-1b4fa0b6e526",
   "metadata": {},
   "source": [
    "Some of the popular languages that Data Scientists use are:\n",
    "1. Python\n",
    "2. R\n",
    "3. Julia\n",
    "4. SQL\n",
    "5. C++\n",
    "6. Java"
   ]
  },
  {
   "cell_type": "markdown",
   "id": "fa2ad049-82ab-4c17-95ef-d8303cceb596",
   "metadata": {},
   "source": [
    "Some of the commonly used libraries used by Data Scientists include:\n",
    "1. Matplotlib\n",
    "2. Seaborn\n",
    "3. ggplot\n",
    "4. NumPy\n",
    "5. Pandas\n",
    "6. Scikit-learn"
   ]
  },
  {
   "cell_type": "markdown",
   "id": "8d4a4b1c-4ee2-4b50-9b8e-447ad5718753",
   "metadata": {},
   "source": [
    "| Data Science Tools |\n",
    "|--------------------|\n",
    "| Jupyter            |\n",
    "| RStudio            |\n",
    "| Spyder             |\n"
   ]
  },
  {
   "cell_type": "markdown",
   "id": "8b289bf8-1f67-4ce9-bbe7-a552af8dbb1a",
   "metadata": {},
   "source": [
    "### Below are a few examples of evaluating arithmetic expressions in Python."
   ]
  },
  {
   "cell_type": "code",
   "execution_count": 5,
   "id": "86e51a2f-8d29-4fe5-8b69-458507af57fc",
   "metadata": {},
   "outputs": [
    {
     "data": {
      "text/plain": [
       "17"
      ]
     },
     "execution_count": 5,
     "metadata": {},
     "output_type": "execute_result"
    }
   ],
   "source": [
    "(3*4)+5 # This a simple arithmetic expression to mutiply then add integers"
   ]
  },
  {
   "cell_type": "code",
   "execution_count": 6,
   "id": "7c0ece0a-fe0c-4676-8abc-bdebf57988a8",
   "metadata": {},
   "outputs": [
    {
     "data": {
      "text/plain": [
       "3.3333333333333335"
      ]
     },
     "execution_count": 6,
     "metadata": {},
     "output_type": "execute_result"
    }
   ],
   "source": [
    "200/60 # This will convert 200 minutes to hours by diving by 60"
   ]
  },
  {
   "cell_type": "markdown",
   "id": "6e6b453b-722d-46e6-95ce-ad5e0b7caa2c",
   "metadata": {},
   "source": [
    "**Objectives:**\n",
    "- List popular languages for Data Science\n",
    "- List common libraries used in Data Science\n",
    "- Introduce arithmetic expression examples in Python\n",
    "- Convert minutes to hours using Python\n"
   ]
  },
  {
   "cell_type": "markdown",
   "id": "8286ff38-6968-4eea-8578-d83d0bd0f6d1",
   "metadata": {},
   "source": [
    "## Author\n",
    "Kamolwut Poorat"
   ]
  },
  {
   "cell_type": "code",
   "execution_count": null,
   "id": "23470953-d9d9-41b5-9f6d-6f56ca874f0e",
   "metadata": {},
   "outputs": [],
   "source": []
  }
 ],
 "metadata": {
  "kernelspec": {
   "display_name": "Python 3 (ipykernel)",
   "language": "python",
   "name": "python3"
  },
  "language_info": {
   "codemirror_mode": {
    "name": "ipython",
    "version": 3
   },
   "file_extension": ".py",
   "mimetype": "text/x-python",
   "name": "python",
   "nbconvert_exporter": "python",
   "pygments_lexer": "ipython3",
   "version": "3.12.1"
  }
 },
 "nbformat": 4,
 "nbformat_minor": 5
}
